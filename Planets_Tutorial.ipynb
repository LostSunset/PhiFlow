{
 "cells": [
  {
   "cell_type": "markdown",
   "metadata": {
    "pycharm": {
     "name": "#%% md\n"
    }
   },
   "source": [
    "# Solar System\n",
    "\n",
    "[![Google Collab Book](https://colab.research.google.com/assets/colab-badge.svg)](https://colab.research.google.com/github/tum-pbs/PhiFlow/blob/develop/docs/Planets_Tutorial.ipynb)\n",
    "\n",
    "\n",
    "This demo simulates the gravitational pull between multiple massive bodies.\n",
    "We will use Euler steps in time which do not preserve energy.\n",
    "\n",
    "[**Φ-Flow**](https://github.com/tum-pbs/PhiFlow)\n",
    "&nbsp;&nbsp;&nbsp; [**Documentation**](https://tum-pbs.github.io/PhiFlow/)\n",
    "&nbsp;&nbsp;&nbsp; [**API**](https://tum-pbs.github.io/PhiFlow/phi)\n",
    "&nbsp;&nbsp;&nbsp; [**Demos**](https://github.com/tum-pbs/PhiFlow/tree/master/demos)"
   ]
  },
  {
   "cell_type": "code",
   "execution_count": 1,
   "metadata": {
    "pycharm": {
     "name": "#%%\n"
    }
   },
   "outputs": [],
   "source": [
    "# !pip install phiflow"
   ]
  },
  {
   "cell_type": "markdown",
   "metadata": {
    "pycharm": {
     "name": "#%% md\n"
    }
   },
   "source": [
    "We use the convenience import of Φ<sub>Flow</sub> which imports the core submodules, such as `math` and `vis`."
   ]
  },
  {
   "cell_type": "code",
   "execution_count": 2,
   "metadata": {
    "pycharm": {
     "name": "#%%\n"
    }
   },
   "outputs": [],
   "source": [
    "from phi.flow import *"
   ]
  },
  {
   "cell_type": "markdown",
   "metadata": {
    "pycharm": {
     "name": "#%% md\n"
    }
   },
   "source": [
    "Let's define the initial positions for our planets.\n",
    "We stack the position vectors of the planets a long a new [*instance*](https://tum-pbs.github.io/PhiFlow/Math.html#shapes) dimension we call *planets*.\n",
    "Φ<sub>Flow</sub> also allows us to name the individual elements along that dimension. These names are part of the shape and will be present on all tensors derived from `x` that have this dimension."
   ]
  },
  {
   "cell_type": "code",
   "execution_count": 3,
   "metadata": {
    "pycharm": {
     "name": "#%%\n"
    }
   },
   "outputs": [
    {
     "data": {
      "text/plain": "\u001B[94m(x=0, y=0)\u001B[0m; \u001B[94m(x=10, y=0)\u001B[0m; \u001B[94m(x=0, y=12)\u001B[0m \u001B[92m(planetsⁱ=Sun,Earth,Mars, vectorᶜ=x,y)\u001B[0m"
     },
     "execution_count": 3,
     "metadata": {},
     "output_type": "execute_result"
    }
   ],
   "source": [
    "x = stack({'Sun': (0, 0), 'Earth': (10, 0), 'Mars': (0, 12)}, instance('planets'))\n",
    "x = rename_dims(x, 'vector', channel(vector='x,y'))\n",
    "x"
   ]
  },
  {
   "cell_type": "markdown",
   "metadata": {
    "pycharm": {
     "name": "#%% md\n"
    }
   },
   "source": [
    "We can plot these positions by constructing a `PointCloud`, using the `bounds` parameter to specify the axis range. Since the universe we are simulating is infinite, the `bounds` have no physical meaning in this case."
   ]
  },
  {
   "cell_type": "code",
   "execution_count": 4,
   "metadata": {
    "pycharm": {
     "name": "#%%\n"
    }
   },
   "outputs": [
    {
     "data": {
      "text/plain": "<Figure size 864x360 with 1 Axes>"
     },
     "execution_count": 4,
     "metadata": {},
     "output_type": "execute_result"
    },
    {
     "data": {
      "text/plain": "<Figure size 864x360 with 1 Axes>",
      "image/png": "[encoded data removed]"
     },
     "metadata": {
      "needs_background": "light"
     },
     "output_type": "display_data"
    }
   ],
   "source": [
    "vis.plot(PointCloud(x, bounds=Box(x=(-2, 12), y=(-1, 13))))"
   ]
  },
  {
   "cell_type": "markdown",
   "metadata": {
    "pycharm": {
     "name": "#%% md\n"
    }
   },
   "source": [
    "Next, let's give the planets initial velocities so that they circle the sun.\n",
    "For a nice plot, we pass the vector-valued velocities as the `values` of our `PointCloud`."
   ]
  },
  {
   "cell_type": "code",
   "execution_count": 5,
   "metadata": {
    "pycharm": {
     "name": "#%%\n"
    }
   },
   "outputs": [
    {
     "data": {
      "text/plain": "<Figure size 864x360 with 1 Axes>"
     },
     "execution_count": 5,
     "metadata": {},
     "output_type": "execute_result"
    },
    {
     "data": {
      "text/plain": "<Figure size 864x360 with 1 Axes>",
      "image/png": "[encoded data removed]"
     },
     "metadata": {
      "needs_background": "light"
     },
     "output_type": "display_data"
    }
   ],
   "source": [
    "v = math.rotate_vector(x, PI/2)\n",
    "v = math.divide_no_nan(v, math.vec_length(v))\n",
    "vis.plot(PointCloud(x, values=v, bounds=Box(x=(-2, 12), y=(-1, 13))))"
   ]
  },
  {
   "cell_type": "markdown",
   "metadata": {
    "pycharm": {
     "name": "#%% md\n"
    }
   },
   "source": [
    "Next, we define the masses of our planets which will determine the gravitational pull.\n",
    "These also allow us to make our plot prettier by passing a `Sphere` as the elements of the `PointCloud`."
   ]
  },
  {
   "cell_type": "code",
   "execution_count": 6,
   "metadata": {
    "pycharm": {
     "name": "#%%\n"
    }
   },
   "outputs": [
    {
     "data": {
      "text/plain": "<Figure size 864x360 with 1 Axes>"
     },
     "execution_count": 6,
     "metadata": {},
     "output_type": "execute_result"
    },
    {
     "data": {
      "text/plain": "<Figure size 864x360 with 1 Axes>",
      "image/png": "[encoded data removed]"
     },
     "metadata": {
      "needs_background": "light"
     },
     "output_type": "display_data"
    }
   ],
   "source": [
    "masses = math.stack({'Sun': 1000, 'Earth': 10, 'Mars': 10}, instance('planets'))\n",
    "vis.plot(PointCloud(Sphere(x, radius=masses**0.333 * .2), bounds=Box(x=(-2, 12), y=(-1, 13))))"
   ]
  },
  {
   "cell_type": "markdown",
   "metadata": {
    "pycharm": {
     "name": "#%% md\n"
    }
   },
   "source": [
    "To Simulate our system, we define a simple update step, `simulation`, and iterate it to produce the position and velocity trajectories `xs` and `vs`.\n",
    "We use `iterate` instead of a `for`-loop because `iterate` can also stack all intermediate values to give us the full trajectory along the newly-defined `time` axis.\n",
    "This saves us from creating two lists, adding every element and manually stacking the values.\n",
    "\n",
    "Inside the simulation step, `math.pairwise_distances` computes all body-body distances, adding a new instance dimension with the name `others` by default."
   ]
  },
  {
   "cell_type": "code",
   "execution_count": 7,
   "metadata": {
    "pycharm": {
     "name": "#%%\n"
    }
   },
   "outputs": [
    {
     "data": {
      "text/plain": "\u001B[92m(timeᵇ=101, planetsⁱ=Sun,Earth,Mars, vectorᶜ=x,y)\u001B[0m \u001B[94m8.559 ± 24.659\u001B[0m \u001B[37m(-6e+01...7e+01)\u001B[0m"
     },
     "execution_count": 7,
     "metadata": {},
     "output_type": "execute_result"
    }
   ],
   "source": [
    "def simulate(x, v, dt=.5):\n",
    "    dx = math.pairwise_distances(x)\n",
    "    a = - .01 * math.sum(math.divide_no_nan(math.rename_dims(masses, 'planets', 'others') * dx, math.vec_squared(dx) ** 1.5), 'others')\n",
    "    return x + v * dt, v + a * dt\n",
    "\n",
    "xs, vs = iterate(simulate, batch(time=100), x, v)\n",
    "xs"
   ]
  },
  {
   "cell_type": "markdown",
   "metadata": {
    "pycharm": {
     "name": "#%% md\n"
    }
   },
   "source": [
    "Let's plot the system trajectory as an animation!\n",
    "We can use the `time` dimension created above for the animation.\n",
    "Using `vis.overlay` allows us to plot multiple fields in one figure."
   ]
  },
  {
   "cell_type": "code",
   "execution_count": 8,
   "metadata": {
    "pycharm": {
     "name": "#%%\n"
    }
   },
   "outputs": [
    {
     "data": {
      "text/plain": "<matplotlib.animation.FuncAnimation at 0x2808723e700>",
      "text/html": "<video width=\"864\" height=\"360\" controls autoplay loop>\n  <source type=\"video/mp4\" src=\"data:video/mp4;base64,AAAAIGZ0eXBNNFYgAAACAE00ViBpc29taXNvMmF2YzEAAAAIZnJlZQAAQ61tZGF0AAACrwYF//+r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\nHWRhdGEAAAABAAAAAExhdmY1OC43Ny4xMDA=\n\">\n  Your browser does not support the video tag.\n</video>"
     },
     "execution_count": 8,
     "metadata": {},
     "output_type": "execute_result"
    },
    {
     "data": {
      "text/plain": "<Figure size 432x288 with 0 Axes>"
     },
     "metadata": {},
     "output_type": "display_data"
    }
   ],
   "source": [
    "vis.plot(vis.overlay(\n",
    "    PointCloud(Sphere(xs, radius=masses ** 0.333 / 5), bounds=Box(x=(-20, 20), y=(-20, 20))),\n",
    "    PointCloud(xs, vs * 2, bounds=Box(x=(-20, 20), y=(-20, 20)))), animate='time', frame_time=100)"
   ]
  }
 ],
 "metadata": {
  "kernelspec": {
   "display_name": "Python 3",
   "language": "python",
   "name": "python3"
  },
  "language_info": {
   "codemirror_mode": {
    "name": "ipython",
    "version": 3
   },
   "file_extension": ".py",
   "mimetype": "text/x-python",
   "name": "python",
   "nbconvert_exporter": "python",
   "pygments_lexer": "ipython3",
   "version": "3.8.5"
  }
 },
 "nbformat": 4,
 "nbformat_minor": 1
}