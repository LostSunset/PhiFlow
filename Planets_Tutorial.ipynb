{
 "cells": [
  {
   "cell_type": "markdown",
   "metadata": {
    "pycharm": {
     "name": "#%% md\n"
    }
   },
   "source": [
    "# Solar System\n",
    "\n",
    "[![Google Collab Book](https://colab.research.google.com/assets/colab-badge.svg)](https://colab.research.google.com/github/tum-pbs/PhiFlow/blob/develop/docs/Planets_Tutorial.ipynb)\n",
    "\n",
    "\n",
    "This demo simulates the gravitational pull between multiple massive bodies.\n",
    "We will use Euler steps in time which do not preserve energy.\n",
    "\n",
    "[**Φ-Flow**](https://github.com/tum-pbs/PhiFlow)\n",
    "&nbsp;&nbsp;&nbsp; [**Documentation**](https://tum-pbs.github.io/PhiFlow/)\n",
    "&nbsp;&nbsp;&nbsp; [**API**](https://tum-pbs.github.io/PhiFlow/phi)\n",
    "&nbsp;&nbsp;&nbsp; [**Demos**](https://github.com/tum-pbs/PhiFlow/tree/master/demos)"
   ]
  },
  {
   "cell_type": "code",
   "execution_count": 1,
   "metadata": {
    "pycharm": {
     "name": "#%%\n"
    }
   },
   "outputs": [],
   "source": [
    "# !pip install phiflow"
   ]
  },
  {
   "cell_type": "markdown",
   "metadata": {
    "pycharm": {
     "name": "#%% md\n"
    }
   },
   "source": [
    "We use the convenience import of Φ<sub>Flow</sub> which imports the core submodules, such as `math` and `vis`."
   ]
  },
  {
   "cell_type": "code",
   "execution_count": 2,
   "metadata": {
    "pycharm": {
     "name": "#%%\n"
    }
   },
   "outputs": [],
   "source": [
    "from phi.flow import *"
   ]
  },
  {
   "cell_type": "markdown",
   "metadata": {
    "pycharm": {
     "name": "#%% md\n"
    }
   },
   "source": [
    "Let's define the initial positions for our planets.\n",
    "We stack the position vectors of the planets a long a new [*instance*](https://tum-pbs.github.io/PhiFlow/Math.html#shapes) dimension we call *planets*.\n",
    "Φ<sub>Flow</sub> also allows us to name the individual elements along that dimension. These names are part of the shape and will be present on all tensors derived from `x` that have this dimension."
   ]
  },
  {
   "cell_type": "code",
   "execution_count": 3,
   "metadata": {
    "pycharm": {
     "name": "#%%\n"
    }
   },
   "outputs": [
    {
     "data": {
      "text/plain": "\u001B[94m(x=0, y=0)\u001B[0m; \u001B[94m(x=10, y=0)\u001B[0m; \u001B[94m(x=0, y=12)\u001B[0m \u001B[92m(planetsⁱ=Sun,Earth,Mars, vectorᶜ=x,y)\u001B[0m"
     },
     "execution_count": 3,
     "metadata": {},
     "output_type": "execute_result"
    }
   ],
   "source": [
    "x = stack({\n",
    "    'Sun': vec(x=0, y=0),\n",
    "    'Earth': vec(x=10, y=0),\n",
    "    'Mars': vec(x=0, y=12)}, instance('planets'))\n",
    "x"
   ]
  },
  {
   "cell_type": "markdown",
   "metadata": {
    "pycharm": {
     "name": "#%% md\n"
    }
   },
   "source": [
    "We can plot these positions by constructing a `PointCloud`, using the `bounds` parameter to specify the axis range. Since the universe we are simulating is infinite, the `bounds` have no physical meaning in this case."
   ]
  },
  {
   "cell_type": "code",
   "execution_count": 4,
   "metadata": {
    "pycharm": {
     "name": "#%%\n"
    }
   },
   "outputs": [
    {
     "data": {
      "text/plain": "<Figure size 864x360 with 1 Axes>"
     },
     "execution_count": 4,
     "metadata": {},
     "output_type": "execute_result"
    },
    {
     "data": {
      "text/plain": "<Figure size 864x360 with 1 Axes>",
      "image/png": "[encoded data removed]"
     },
     "metadata": {
      "needs_background": "light"
     },
     "output_type": "display_data"
    }
   ],
   "source": [
    "COLOR = wrap(['#fcd700', '#006dfc', '#fc2e00'], instance(x))\n",
    "plot(PointCloud(x, bounds=Box(x=(-2, 12), y=(-1, 13))), color=COLOR)"
   ]
  },
  {
   "cell_type": "markdown",
   "metadata": {
    "pycharm": {
     "name": "#%% md\n"
    }
   },
   "source": [
    "Next, let's give the planets initial velocities so that they circle the sun.\n",
    "For a nice plot, we pass the vector-valued velocities as the `values` of our `PointCloud`."
   ]
  },
  {
   "cell_type": "code",
   "execution_count": 5,
   "metadata": {
    "pycharm": {
     "name": "#%%\n"
    }
   },
   "outputs": [
    {
     "data": {
      "text/plain": "<Figure size 864x360 with 1 Axes>"
     },
     "execution_count": 5,
     "metadata": {},
     "output_type": "execute_result"
    },
    {
     "data": {
      "text/plain": "<Figure size 864x360 with 1 Axes>",
      "image/png": "[encoded data removed]"
     },
     "metadata": {
      "needs_background": "light"
     },
     "output_type": "display_data"
    }
   ],
   "source": [
    "v = math.rotate_vector(x, PI/2)\n",
    "v = math.divide_no_nan(v, math.vec_length(v))\n",
    "plot(PointCloud(x, values=v, bounds=Box(x=(-2, 12), y=(-1, 13))), color=COLOR)"
   ]
  },
  {
   "cell_type": "markdown",
   "metadata": {
    "pycharm": {
     "name": "#%% md\n"
    }
   },
   "source": [
    "Next, we define the masses of our planets which will determine the gravitational pull.\n",
    "These also allow us to make our plot prettier by passing a `Sphere` as the elements of the `PointCloud`."
   ]
  },
  {
   "cell_type": "code",
   "execution_count": 6,
   "metadata": {
    "pycharm": {
     "name": "#%%\n"
    }
   },
   "outputs": [
    {
     "data": {
      "text/plain": "<Figure size 864x360 with 1 Axes>"
     },
     "execution_count": 6,
     "metadata": {},
     "output_type": "execute_result"
    },
    {
     "data": {
      "text/plain": "<Figure size 864x360 with 1 Axes>",
      "image/png": "[encoded data removed]"
     },
     "metadata": {
      "needs_background": "light"
     },
     "output_type": "display_data"
    }
   ],
   "source": [
    "masses = math.stack({'Sun': 1000, 'Earth': 10, 'Mars': 10}, instance('planets'))\n",
    "plot(PointCloud(Sphere(x, radius=masses**0.333 * .2), bounds=Box(x=(-2, 12), y=(-1, 13))), color=COLOR)"
   ]
  },
  {
   "cell_type": "markdown",
   "metadata": {
    "pycharm": {
     "name": "#%% md\n"
    }
   },
   "source": [
    "To Simulate our system, we define a simple update step, `simulation`, and iterate it to produce the position and velocity trajectories `xs` and `vs`.\n",
    "We use `iterate` instead of a `for`-loop because `iterate` can also stack all intermediate values to give us the full trajectory along the newly-defined `time` axis.\n",
    "This saves us from creating two lists, adding every element and manually stacking the values.\n",
    "\n",
    "Inside the simulation step, `math.pairwise_distances` computes all body-body distances, adding a new instance dimension with the name `others` by default."
   ]
  },
  {
   "cell_type": "code",
   "execution_count": 7,
   "metadata": {
    "pycharm": {
     "name": "#%%\n"
    }
   },
   "outputs": [
    {
     "data": {
      "text/plain": "\u001B[92m(timeᵇ=101, planetsⁱ=Sun,Earth,Mars, vectorᶜ=x,y)\u001B[0m \u001B[94m-2.464 ± 7.704\u001B[0m \u001B[37m(-2e+01...1e+01)\u001B[0m"
     },
     "execution_count": 7,
     "metadata": {},
     "output_type": "execute_result"
    }
   ],
   "source": [
    "def simulate(x, v, dt=.5):\n",
    "    dx = math.pairwise_distances(x)\n",
    "    a = .01 * math.sum(math.divide_no_nan(math.rename_dims(masses, 'planets', 'others') * dx, math.vec_squared(dx) ** 1.5), 'others')\n",
    "    return x + v * dt, v + a * dt\n",
    "\n",
    "xs, vs = iterate(simulate, batch(time=100), x, v)\n",
    "xs"
   ]
  },
  {
   "cell_type": "markdown",
   "metadata": {
    "pycharm": {
     "name": "#%% md\n"
    }
   },
   "source": [
    "Let's plot the system trajectory as an animation!\n",
    "We can use the `time` dimension created above for the animation.\n",
    "Using `vis.overlay` allows us to plot multiple fields in one figure."
   ]
  },
  {
   "cell_type": "code",
   "execution_count": 8,
   "metadata": {
    "pycharm": {
     "name": "#%%\n"
    }
   },
   "outputs": [
    {
     "data": {
      "text/plain": "<matplotlib.animation.FuncAnimation at 0x1ff7f53c4c0>",
      "text/html": "<video width=\"864\" height=\"360\" controls autoplay loop>\n  <source type=\"video/mp4\" src=\"data:video/mp4;base64,AAAAIGZ0eXBNNFYgAAACAE00ViBpc29taXNvMmF2YzEAAAAIZnJlZQAAUbttZGF0AAACrwYF//+r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\nAAAAAExhdmY1OC43Ny4xMDA=\n\">\n  Your browser does not support the video tag.\n</video>"
     },
     "execution_count": 8,
     "metadata": {},
     "output_type": "execute_result"
    },
    {
     "data": {
      "text/plain": "<Figure size 432x288 with 0 Axes>"
     },
     "metadata": {},
     "output_type": "display_data"
    }
   ],
   "source": [
    "plot(vis.overlay(\n",
    "    PointCloud(Sphere(xs, radius=masses ** 0.333 / 5), bounds=Box(x=(-20, 20), y=(-20, 20))),\n",
    "    PointCloud(xs, vs * 2, bounds=Box(x=(-20, 20), y=(-20, 20)))), animate='time', frame_time=100)"
   ]
  }
 ],
 "metadata": {
  "kernelspec": {
   "display_name": "Python 3",
   "language": "python",
   "name": "python3"
  },
  "language_info": {
   "codemirror_mode": {
    "name": "ipython",
    "version": 3
   },
   "file_extension": ".py",
   "mimetype": "text/x-python",
   "name": "python",
   "nbconvert_exporter": "python",
   "pygments_lexer": "ipython3",
   "version": "3.8.5"
  }
 },
 "nbformat": 4,
 "nbformat_minor": 1
}